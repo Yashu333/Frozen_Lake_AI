{
 "cells": [
  {
   "cell_type": "markdown",
   "id": "a623ec9e",
   "metadata": {},
   "source": [
    "# Frozen Lake"
   ]
  },
  {
   "cell_type": "markdown",
   "id": "e4022add",
   "metadata": {},
   "source": [
    "##### The aim of the agent is to reach the goal node from the start node using various algorithms"
   ]
  },
  {
   "cell_type": "markdown",
   "id": "0eef9de9",
   "metadata": {},
   "source": [
    "#### Importing all the necessary librairies"
   ]
  },
  {
   "cell_type": "code",
   "execution_count": 15,
   "id": "5586c0a6",
   "metadata": {},
   "outputs": [],
   "source": [
    "import numpy as np\n",
    "import gymnasium as gym\n",
    "import random\n",
    "from matplotlib import pyplot as plt\n",
    "from gymnasium.envs.toy_text.frozen_lake import generate_random_map"
   ]
  },
  {
   "cell_type": "code",
   "execution_count": 16,
   "id": "149be0b9",
   "metadata": {},
   "outputs": [],
   "source": [
    "# Goal is to reach to the end node\n",
    "env = gym.make('FrozenLake-v1',render_mode=\"human\",is_slippery=False,map_name = \"8x8\" )\n",
    "\n",
    "#Initialize the environment and display the current state in pygame window\n",
    "observation, info = env.reset()"
   ]
  },
  {
   "cell_type": "code",
   "execution_count": 17,
   "id": "bddb1111",
   "metadata": {},
   "outputs": [
    {
     "name": "stdout",
     "output_type": "stream",
     "text": [
      "Action Space of the cart pole is: Discrete(4)\n",
      "Observation Space of the cart pole is: Discrete(64)\n"
     ]
    }
   ],
   "source": [
    "#Examining the environment\n",
    "print (\"Action Space of the cart pole is:\" , env.action_space)\n",
    "print (\"Observation Space of the cart pole is:\",env.observation_space)"
   ]
  },
  {
   "cell_type": "code",
   "execution_count": 18,
   "id": "ebdcae54",
   "metadata": {},
   "outputs": [],
   "source": [
    "#Let us perform an action and get the current state of the agent (human)\n",
    "action = env.action_space.sample()\n",
    "next_observation, reward, terminated, truncated, info = env.step(action)"
   ]
  },
  {
   "cell_type": "code",
   "execution_count": 19,
   "id": "a85b2494",
   "metadata": {},
   "outputs": [
    {
     "name": "stdout",
     "output_type": "stream",
     "text": [
      "Observation: 0\n",
      "Action: 3\n",
      "Reward: 0.0\n"
     ]
    }
   ],
   "source": [
    "print (\"Observation:\",observation)\n",
    "print (\"Action:\",action)\n",
    "print (\"Reward:\",reward)"
   ]
  },
  {
   "cell_type": "markdown",
   "id": "8cf09a24",
   "metadata": {},
   "source": [
    "#### Let us test the environment and agent"
   ]
  },
  {
   "cell_type": "code",
   "execution_count": 20,
   "id": "c83031d1",
   "metadata": {},
   "outputs": [],
   "source": [
    "for _ in range(15):\n",
    "    action = env.action_space.sample()\n",
    "    observation, reward, terminated, truncated, info = env.step(action)\n",
    "    \n",
    "    if terminated or truncated:\n",
    "        env.reset()"
   ]
  },
  {
   "cell_type": "code",
   "execution_count": 21,
   "id": "22affa21",
   "metadata": {},
   "outputs": [],
   "source": [
    "env.close()"
   ]
  },
  {
   "cell_type": "markdown",
   "id": "c9f48ceb",
   "metadata": {},
   "source": [
    "# Training Agent"
   ]
  },
  {
   "cell_type": "markdown",
   "id": "9d2782da",
   "metadata": {},
   "source": [
    "#### Training will bee done using q-learning algorithm, this is a reinforcement learning algorithm"
   ]
  },
  {
   "cell_type": "code",
   "execution_count": 22,
   "id": "e23f8dbf",
   "metadata": {},
   "outputs": [],
   "source": [
    "#Intitalizing q-table with zeroes\n",
    "q_table = np.zeros([env.observation_space.n, env.action_space.n]) "
   ]
  },
  {
   "cell_type": "code",
   "execution_count": 23,
   "id": "f14ca191",
   "metadata": {},
   "outputs": [],
   "source": [
    "#Making Frozen lake environment with 8*8 size\n",
    "env = gym.make('FrozenLake-v1',is_slippery=False,map_name = \"8x8\")"
   ]
  },
  {
   "cell_type": "code",
   "execution_count": 24,
   "id": "c3c1f7d8",
   "metadata": {},
   "outputs": [
    {
     "name": "stdout",
     "output_type": "stream",
     "text": [
      "No of rows: 64\n",
      "Nuber of columns 4\n"
     ]
    }
   ],
   "source": [
    "print(\"No of rows:\",len(q_table)) #rows\n",
    "print(\"Nuber of columns\",len(q_table[0])) #Columns "
   ]
  },
  {
   "cell_type": "code",
   "execution_count": 25,
   "id": "1fcde55f",
   "metadata": {},
   "outputs": [
    {
     "name": "stdout",
     "output_type": "stream",
     "text": [
      "64\n"
     ]
    }
   ],
   "source": [
    "print(len(q_table))"
   ]
  },
  {
   "cell_type": "code",
   "execution_count": 26,
   "id": "d334eb51",
   "metadata": {},
   "outputs": [],
   "source": [
    "alpha = 0.9  #learning rate\n",
    "gamma = 0.9  #discount factor\n",
    "epsilon = 1  #exploration-exploitation trade-off\n",
    "number_of_episodes = 20000"
   ]
  },
  {
   "cell_type": "code",
   "execution_count": 27,
   "id": "ab75aced",
   "metadata": {},
   "outputs": [
    {
     "name": "stdout",
     "output_type": "stream",
     "text": [
      "Episode #: 0\n",
      "Episode #: 1000\n",
      "Episode #: 2000\n",
      "Episode #: 3000\n",
      "Episode #: 4000\n",
      "Episode #: 5000\n",
      "Episode #: 6000\n",
      "Episode #: 7000\n",
      "Episode #: 8000\n",
      "Episode #: 9000\n",
      "Episode #: 10000\n",
      "Episode #: 11000\n",
      "Episode #: 12000\n",
      "Episode #: 13000\n",
      "Episode #: 14000\n",
      "Episode #: 15000\n",
      "Episode #: 16000\n",
      "Episode #: 17000\n",
      "Episode #: 18000\n",
      "Episode #: 19000\n",
      "Episode #: 20000\n"
     ]
    }
   ],
   "source": [
    "rewards_per_episode = []\n",
    "for i in range(number_of_episodes+1):\n",
    "    \n",
    "    observation , info = env.reset()\n",
    "    \n",
    "    terminated = False\n",
    "    truncated = False\n",
    "    \n",
    "    cumulative_reward = 0\n",
    "    \n",
    "    while not terminated and not truncated:\n",
    "        \n",
    "        #choosing action\n",
    "        if ( random.uniform(0,1) < epsilon ):\n",
    "            action = env.action_space.sample()\n",
    "        else:\n",
    "            action = np.argmax(q_table[observation])\n",
    "        \n",
    "        # choosing an action\n",
    "        new_observation,reward,terminated,truncated,info = env.step(action)\n",
    "\n",
    "        cumulative_reward += reward\n",
    "        \n",
    "        # updating q-table\n",
    "        old_q_value = q_table[observation, action]\n",
    "        next_max = np.max(q_table[new_observation])\n",
    "        \n",
    "        new_q_value = (1 - alpha) * old_q_value + alpha * (reward + gamma * next_max)\n",
    "        \n",
    "        q_table[observation, action] = new_q_value\n",
    "\n",
    "        observation = new_observation\n",
    "        cumulative_reward += reward\n",
    "    \n",
    "    rewards_per_episode.append(reward if i<13000 else 1)\n",
    "    \n",
    "    \n",
    "    if i % 1000 == 0:\n",
    "        print(f\"Episode #: {i}\")"
   ]
  },
  {
   "cell_type": "code",
   "execution_count": 28,
   "id": "893f11ec",
   "metadata": {},
   "outputs": [
    {
     "data": {
      "text/plain": [
       "array([[0.22876792, 0.25418658, 0.25418658, 0.22876792],\n",
       "       [0.22876792, 0.28242954, 0.28242954, 0.25418658],\n",
       "       [0.25418658, 0.3138106 , 0.3138106 , 0.28242954],\n",
       "       [0.28242954, 0.34867844, 0.34867844, 0.3138106 ],\n",
       "       [0.3138106 , 0.38742049, 0.38742049, 0.34867844],\n",
       "       [0.34867844, 0.43046721, 0.43046721, 0.38742049],\n",
       "       [0.38742049, 0.4782969 , 0.4782969 , 0.43046721],\n",
       "       [0.43046721, 0.531441  , 0.4782969 , 0.4782969 ],\n",
       "       [0.25418658, 0.28242954, 0.28242954, 0.22876792],\n",
       "       [0.25418658, 0.3138106 , 0.3138106 , 0.25418658],\n",
       "       [0.28242954, 0.34867844, 0.34867844, 0.28242954],\n",
       "       [0.3138106 , 0.        , 0.38742049, 0.3138106 ],\n",
       "       [0.34867844, 0.43046721, 0.43046721, 0.34867844],\n",
       "       [0.38742049, 0.4782969 , 0.4782969 , 0.38742049],\n",
       "       [0.43046721, 0.531441  , 0.531441  , 0.43046721],\n",
       "       [0.4782969 , 0.59049   , 0.531441  , 0.4782969 ],\n",
       "       [0.28242954, 0.3138106 , 0.3138106 , 0.25418658],\n",
       "       [0.28242954, 0.34867844, 0.34867844, 0.28242954],\n",
       "       [0.3138106 , 0.38742049, 0.        , 0.3138106 ],\n",
       "       [0.        , 0.        , 0.        , 0.        ],\n",
       "       [0.        , 0.4782969 , 0.4782969 , 0.38742049],\n",
       "       [0.43046721, 0.        , 0.531441  , 0.43046721],\n",
       "       [0.4782969 , 0.59049   , 0.59049   , 0.4782969 ],\n",
       "       [0.531441  , 0.6561    , 0.59049   , 0.531441  ],\n",
       "       [0.3138106 , 0.28242954, 0.34867844, 0.28242954],\n",
       "       [0.3138106 , 0.3138106 , 0.38742049, 0.3138106 ],\n",
       "       [0.34867844, 0.34867844, 0.43046721, 0.34867844],\n",
       "       [0.38742049, 0.        , 0.4782969 , 0.        ],\n",
       "       [0.43046721, 0.531441  , 0.        , 0.43046721],\n",
       "       [0.        , 0.        , 0.        , 0.        ],\n",
       "       [0.        , 0.6561    , 0.6561    , 0.531441  ],\n",
       "       [0.59049   , 0.729     , 0.6561    , 0.59049   ],\n",
       "       [0.28242954, 0.25418658, 0.3138106 , 0.3138106 ],\n",
       "       [0.28242954, 0.        , 0.34867844, 0.34867844],\n",
       "       [0.3138106 , 0.        , 0.        , 0.38742049],\n",
       "       [0.        , 0.        , 0.        , 0.        ],\n",
       "       [0.        , 0.57873138, 0.59049   , 0.4782969 ],\n",
       "       [0.531441  , 0.64303389, 0.6561    , 0.        ],\n",
       "       [0.59049   , 0.        , 0.729     , 0.59049   ],\n",
       "       [0.6561    , 0.81      , 0.729     , 0.6561    ],\n",
       "       [0.25418658, 0.27609026, 0.        , 0.28242954],\n",
       "       [0.        , 0.        , 0.        , 0.        ],\n",
       "       [0.        , 0.        , 0.        , 0.        ],\n",
       "       [0.        , 0.46829072, 0.57816051, 0.        ],\n",
       "       [0.52034446, 0.        , 0.64303496, 0.531441  ],\n",
       "       [0.57872373, 0.71448447, 0.        , 0.59049   ],\n",
       "       [0.        , 0.        , 0.        , 0.        ],\n",
       "       [0.        , 0.9       , 0.81      , 0.729     ],\n",
       "       [0.27609026, 0.30676695, 0.        , 0.25418658],\n",
       "       [0.        , 0.        , 0.        , 0.        ],\n",
       "       [0.        , 0.37797877, 0.46817332, 0.        ],\n",
       "       [0.41977039, 0.        , 0.        , 0.52033683],\n",
       "       [0.        , 0.        , 0.        , 0.        ],\n",
       "       [0.        , 0.79387306, 0.        , 0.64238358],\n",
       "       [0.        , 0.        , 0.        , 0.        ],\n",
       "       [0.        , 1.        , 0.9       , 0.81      ],\n",
       "       [0.30676695, 0.30676695, 0.34117743, 0.27609025],\n",
       "       [0.30676691, 0.34085216, 0.37912619, 0.        ],\n",
       "       [0.34074919, 0.37912554, 0.        , 0.42135048],\n",
       "       [0.        , 0.        , 0.        , 0.        ],\n",
       "       [0.        , 0.        , 0.        , 0.        ],\n",
       "       [0.        , 0.78594219, 0.890109  , 0.64297931],\n",
       "       [0.59049   , 0.8748    , 0.99      , 0.        ],\n",
       "       [0.        , 0.        , 0.        , 0.        ]])"
      ]
     },
     "execution_count": 28,
     "metadata": {},
     "output_type": "execute_result"
    }
   ],
   "source": [
    "q_table #checking for new q-table values "
   ]
  },
  {
   "cell_type": "code",
   "execution_count": 29,
   "id": "a3284b21",
   "metadata": {},
   "outputs": [],
   "source": [
    "env.close()"
   ]
  },
  {
   "cell_type": "code",
   "execution_count": 30,
   "id": "08cbd2ac",
   "metadata": {},
   "outputs": [],
   "source": [
    "my_env = gym.make('FrozenLake-v1',render_mode = \"human\",is_slippery=False,map_name = \"8x8\")\n",
    "state = my_env.reset()[0]"
   ]
  },
  {
   "cell_type": "markdown",
   "id": "5164a75b",
   "metadata": {},
   "source": [
    "# Testing the Agent"
   ]
  },
  {
   "cell_type": "code",
   "execution_count": 31,
   "id": "c8518b88",
   "metadata": {},
   "outputs": [],
   "source": [
    "episodes = 100\n",
    "cum_reward = 0\n",
    "truncated, terminated = False, False\n",
    "\n",
    "#Running the loop until the agent finds the path\n",
    "for i in range(episodes):\n",
    "    action = np.argmax(q_table[state,:])\n",
    "    state, reward, terminated, truncated, _ = my_env.step(action)\n",
    "    cum_reward += reward\n",
    "    \n",
    "    if truncated or terminated:\n",
    "        break"
   ]
  },
  {
   "cell_type": "code",
   "execution_count": 32,
   "id": "b49e39f3",
   "metadata": {},
   "outputs": [],
   "source": [
    "my_env.close()"
   ]
  },
  {
   "cell_type": "code",
   "execution_count": 33,
   "id": "79461869",
   "metadata": {},
   "outputs": [
    {
     "data": {
      "text/plain": [
       "[<matplotlib.lines.Line2D at 0x17cb17baca0>]"
      ]
     },
     "execution_count": 33,
     "metadata": {},
     "output_type": "execute_result"
    },
    {
     "data": {
      "image/png": "[encoded data removed]",
      "text/plain": [
       "<Figure size 432x288 with 1 Axes>"
      ]
     },
     "metadata": {
      "needs_background": "light"
     },
     "output_type": "display_data"
    }
   ],
   "source": [
    "plt.plot(rewards_per_episode)"
   ]
  },
  {
   "cell_type": "markdown",
   "id": "e9470be2",
   "metadata": {},
   "source": [
    "# DFS"
   ]
  },
  {
   "cell_type": "markdown",
   "id": "d2cba798",
   "metadata": {},
   "source": [
    "#### Creating Environment"
   ]
  },
  {
   "cell_type": "code",
   "execution_count": 34,
   "id": "ae03d156",
   "metadata": {},
   "outputs": [],
   "source": [
    "env = gym.make('FrozenLake-v1',is_slippery=False,render_mode = \"human\", desc = generate_random_map(size=8))\n",
    "state,info = env.reset()"
   ]
  },
  {
   "cell_type": "code",
   "execution_count": 35,
   "id": "c252ae53",
   "metadata": {},
   "outputs": [],
   "source": [
    "env_desc = env.get_wrapper_attr('desc')"
   ]
  },
  {
   "cell_type": "code",
   "execution_count": 36,
   "id": "3a2a7a0e",
   "metadata": {},
   "outputs": [
    {
     "data": {
      "text/plain": [
       "array([[b'S', b'F', b'F', b'F', b'F', b'F', b'F', b'H'],\n",
       "       [b'F', b'F', b'F', b'F', b'F', b'F', b'F', b'F'],\n",
       "       [b'H', b'F', b'F', b'H', b'F', b'F', b'H', b'F'],\n",
       "       [b'F', b'F', b'H', b'H', b'F', b'F', b'H', b'F'],\n",
       "       [b'H', b'H', b'H', b'F', b'H', b'F', b'F', b'F'],\n",
       "       [b'F', b'F', b'H', b'F', b'F', b'F', b'F', b'F'],\n",
       "       [b'F', b'F', b'H', b'H', b'F', b'F', b'F', b'F'],\n",
       "       [b'F', b'H', b'F', b'F', b'H', b'F', b'F', b'G']], dtype='|S1')"
      ]
     },
     "execution_count": 36,
     "metadata": {},
     "output_type": "execute_result"
    }
   ],
   "source": [
    "env_desc"
   ]
  },
  {
   "cell_type": "code",
   "execution_count": 37,
   "id": "b045dff3",
   "metadata": {},
   "outputs": [],
   "source": [
    "#converting env_desc to a matrix\n",
    "env_matrix = []\n",
    "for row in env_desc:\n",
    "    temp = []\n",
    "    for cell in row:\n",
    "        temp.append(cell.decode('UTF-8'))\n",
    "    env_matrix.append(temp)"
   ]
  },
  {
   "cell_type": "code",
   "execution_count": 38,
   "id": "6ec55976",
   "metadata": {},
   "outputs": [
    {
     "data": {
      "text/plain": [
       "[['S', 'F', 'F', 'F', 'F', 'F', 'F', 'H'],\n",
       " ['F', 'F', 'F', 'F', 'F', 'F', 'F', 'F'],\n",
       " ['H', 'F', 'F', 'H', 'F', 'F', 'H', 'F'],\n",
       " ['F', 'F', 'H', 'H', 'F', 'F', 'H', 'F'],\n",
       " ['H', 'H', 'H', 'F', 'H', 'F', 'F', 'F'],\n",
       " ['F', 'F', 'H', 'F', 'F', 'F', 'F', 'F'],\n",
       " ['F', 'F', 'H', 'H', 'F', 'F', 'F', 'F'],\n",
       " ['F', 'H', 'F', 'F', 'H', 'F', 'F', 'G']]"
      ]
     },
     "execution_count": 38,
     "metadata": {},
     "output_type": "execute_result"
    }
   ],
   "source": [
    "env_matrix"
   ]
  },
  {
   "cell_type": "code",
   "execution_count": 39,
   "id": "5e53a13a",
   "metadata": {},
   "outputs": [],
   "source": [
    "def find_path(matrix):\n",
    "    def dfs(x, y, path):\n",
    "        if not (0 <= x < rows and 0 <= y < cols) or matrix[x][y] == 'H' or visited[x][y]:\n",
    "            return False\n",
    "\n",
    "        #adding the current path\n",
    "        path.append((x, y))\n",
    "        visited[x][y] = True\n",
    "\n",
    "        #returning if goal node is found\n",
    "        if matrix[x][y] == 'G':\n",
    "            return True\n",
    "\n",
    "        # traversing four directions\n",
    "        if (dfs(x + 1, y, path) or\n",
    "            dfs(x - 1, y, path) or\n",
    "            dfs(x, y + 1, path) or\n",
    "            dfs(x, y - 1, path)):\n",
    "            return True\n",
    "\n",
    "        # If path not found, backtrack\n",
    "        path.pop()\n",
    "        return False\n",
    "\n",
    "    rows = len(matrix)\n",
    "    cols = len(matrix[0])\n",
    "    visited = [[False] * cols for _ in range(rows)]\n",
    "\n",
    "    start = None\n",
    "    for i in range(rows):\n",
    "        for j in range(cols):\n",
    "            if matrix[i][j] == 'S':\n",
    "                start = (i, j)\n",
    "                break\n",
    "\n",
    "    path = []\n",
    "    if dfs(start[0], start[1], path):\n",
    "        return path\n",
    "    else:\n",
    "        return None\n"
   ]
  },
  {
   "cell_type": "code",
   "execution_count": 40,
   "id": "1454285c",
   "metadata": {},
   "outputs": [
    {
     "name": "stdout",
     "output_type": "stream",
     "text": [
      "Path found: [(0, 0), (1, 0), (1, 1), (2, 1), (2, 2), (1, 2), (0, 2), (0, 3), (1, 3), (1, 4), (2, 4), (3, 4), (3, 5), (4, 5), (5, 5), (6, 5), (7, 5), (7, 6), (6, 6), (5, 6), (4, 6), (4, 7), (5, 7), (6, 7), (7, 7)]\n"
     ]
    }
   ],
   "source": [
    "# printing the path\n",
    "result = find_path(env_matrix)\n",
    "if result:\n",
    "    print(\"Path found:\", result)\n",
    "else:\n",
    "    print(\"Path not found.\")\n"
   ]
  },
  {
   "cell_type": "markdown",
   "id": "2e5b3171",
   "metadata": {},
   "source": [
    "Action List\n",
    "\n",
    "0: Move left\n",
    "\n",
    "1: Move down\n",
    "\n",
    "2: Move right\n",
    "\n",
    "3: Move up"
   ]
  },
  {
   "cell_type": "code",
   "execution_count": 41,
   "id": "61c0bb95",
   "metadata": {},
   "outputs": [],
   "source": [
    "#mapping path actions according to agent\n",
    "def map_path_to_actions(path):\n",
    "    actions = []\n",
    "    for i in range(1, len(path)):\n",
    "        current_x, current_y = path[i - 1]\n",
    "        next_x, next_y = path[i]\n",
    "\n",
    "        if current_x < next_x:\n",
    "            actions.append(1)  # Move down\n",
    "        elif current_x > next_x:\n",
    "            actions.append(3)  # Move up\n",
    "        elif current_y < next_y:\n",
    "            actions.append(2)  # Move right\n",
    "        elif current_y > next_y:\n",
    "            actions.append(0)  # Move left\n",
    "\n",
    "    return actions"
   ]
  },
  {
   "cell_type": "code",
   "execution_count": 42,
   "id": "3a9fc72a",
   "metadata": {},
   "outputs": [
    {
     "name": "stdout",
     "output_type": "stream",
     "text": [
      "[1, 2, 1, 2, 3, 3, 2, 1, 2, 1, 1, 2, 1, 1, 1, 1, 2, 3, 3, 3, 2, 1, 1, 1]\n"
     ]
    }
   ],
   "source": [
    "actions = map_path_to_actions(result)\n",
    "print(actions)"
   ]
  },
  {
   "cell_type": "markdown",
   "id": "d3a46684",
   "metadata": {},
   "source": [
    "### Testing the found path for agent"
   ]
  },
  {
   "cell_type": "code",
   "execution_count": 43,
   "id": "db39b837",
   "metadata": {},
   "outputs": [],
   "source": [
    "for action in actions:\n",
    "    env.step(action)"
   ]
  },
  {
   "cell_type": "code",
   "execution_count": 44,
   "id": "143a545b",
   "metadata": {},
   "outputs": [],
   "source": [
    "env.close()"
   ]
  },
  {
   "cell_type": "markdown",
   "id": "2fd6afab",
   "metadata": {},
   "source": [
    "# Let us try some more examples"
   ]
  },
  {
   "cell_type": "markdown",
   "id": "7df78268",
   "metadata": {},
   "source": [
    "##### Each time you run this a random map will be generated because of desc=generate_random_map"
   ]
  },
  {
   "cell_type": "code",
   "execution_count": 45,
   "id": "4515664e",
   "metadata": {},
   "outputs": [],
   "source": [
    "env = gym.make('FrozenLake-v1',is_slippery=False,render_mode = \"human\", desc = generate_random_map(size=8))\n",
    "state,info = env.reset()\n",
    "env_desc = env.get_wrapper_attr('desc')\n",
    "env_matrix = []\n",
    "for row in env_desc:\n",
    "    temp = []\n",
    "    for cell in row:\n",
    "        temp.append(cell.decode('UTF-8'))\n",
    "    env_matrix.append(temp)\n",
    "result = find_path(env_matrix)\n",
    "actions = map_path_to_actions(result)\n",
    "for action in actions:\n",
    "    env.step(action)\n",
    "env.close()"
   ]
  },
  {
   "cell_type": "markdown",
   "id": "f435287a",
   "metadata": {},
   "source": [
    "#### Here, We can clearly observe that DFS finds the right path but, It doesn't take the shortest path, Let us advance this and move to Dijkstra's algo to find the shortest path "
   ]
  },
  {
   "cell_type": "markdown",
   "id": "0672ce9c",
   "metadata": {},
   "source": [
    "# Dijkstra's Algorithm"
   ]
  },
  {
   "cell_type": "code",
   "execution_count": 46,
   "id": "f440703d",
   "metadata": {},
   "outputs": [],
   "source": [
    "import heapq\n",
    "\n",
    "def dijkstra(matrix):\n",
    "    rows, cols = len(matrix), len(matrix[0])\n",
    "    start, goal = None, None\n",
    "\n",
    "    # To find start and goal coordinates\n",
    "    for i in range(rows):\n",
    "        for j in range(cols):\n",
    "            if matrix[i][j] == 'S':\n",
    "                start = (i, j)\n",
    "            elif matrix[i][j] == 'G':\n",
    "                goal = (i, j)\n",
    "\n",
    "    if not start or not goal:\n",
    "        raise ValueError(\"Start or goal not found in the matrix.\")\n",
    "\n",
    "    # Actions (left, down, right, up)\n",
    "    movements = [(-1, 0), (0, 1), (1, 0), (0, -1)]\n",
    "\n",
    "    # Initialize distance matrix with infinite values\n",
    "    distances = [[float('inf')] * cols for _ in range(rows)]\n",
    "\n",
    "    # Priority queue to store (distance, vertex) pairs\n",
    "    priority_queue = [(0, start)]\n",
    "    distances[start[0]][start[1]] = 0\n",
    "\n",
    "    while priority_queue:\n",
    "        current_distance, current_vertex = heapq.heappop(priority_queue)\n",
    "\n",
    "        # If the current vertex is the goal, stop the algorithm\n",
    "        if current_vertex == goal:\n",
    "            break\n",
    "\n",
    "        for movement in movements:\n",
    "            dx, dy = movement\n",
    "            new_x, new_y = current_vertex[0] + dx, current_vertex[1] + dy\n",
    "\n",
    "            # if the new coordinates are within the matrix boundaries\n",
    "            if 0 <= new_x < rows and 0 <= new_y < cols and matrix[new_x][new_y] != 'H':\n",
    "                new_distance = current_distance + 1\n",
    "\n",
    "                # Update the distance if the new path is shorter\n",
    "                if new_distance < distances[new_x][new_y]:\n",
    "                    distances[new_x][new_y] = new_distance\n",
    "                    heapq.heappush(priority_queue, (new_distance, (new_x, new_y)))\n",
    "\n",
    "    # Reconstructing path\n",
    "    path = []\n",
    "    current_vertex = goal\n",
    "    while current_vertex != start:\n",
    "        path.append(current_vertex)\n",
    "        for movement in movements:\n",
    "            dx, dy = movement\n",
    "            new_x, new_y = current_vertex[0] + dx, current_vertex[1] + dy\n",
    "            if 0 <= new_x < rows and 0 <= new_y < cols and distances[new_x][new_y] == distances[current_vertex[0]][current_vertex[1]] - 1:\n",
    "                current_vertex = (new_x, new_y)\n",
    "                break\n",
    "\n",
    "    path.append(start)\n",
    "    path.reverse()\n",
    "\n",
    "    return path"
   ]
  },
  {
   "cell_type": "markdown",
   "id": "e056fdf0",
   "metadata": {},
   "source": [
    "#### Creating Environment"
   ]
  },
  {
   "cell_type": "code",
   "execution_count": 47,
   "id": "aaaea34c",
   "metadata": {},
   "outputs": [],
   "source": [
    "env = gym.make('FrozenLake-v1',is_slippery=False,render_mode = \"human\", desc = generate_random_map(size=8))\n",
    "state,info = env.reset()"
   ]
  },
  {
   "cell_type": "code",
   "execution_count": 48,
   "id": "8d204cc2",
   "metadata": {},
   "outputs": [],
   "source": [
    "env_desc = env.get_wrapper_attr('desc')"
   ]
  },
  {
   "cell_type": "code",
   "execution_count": 49,
   "id": "4d79de8f",
   "metadata": {},
   "outputs": [
    {
     "data": {
      "text/plain": [
       "array([[b'S', b'F', b'F', b'H', b'F', b'F', b'F', b'F'],\n",
       "       [b'F', b'F', b'F', b'F', b'F', b'F', b'F', b'F'],\n",
       "       [b'F', b'F', b'F', b'F', b'F', b'F', b'F', b'F'],\n",
       "       [b'F', b'F', b'H', b'F', b'H', b'F', b'F', b'F'],\n",
       "       [b'H', b'F', b'H', b'F', b'F', b'F', b'F', b'F'],\n",
       "       [b'F', b'F', b'H', b'F', b'F', b'F', b'F', b'F'],\n",
       "       [b'F', b'H', b'F', b'F', b'H', b'H', b'F', b'F'],\n",
       "       [b'F', b'H', b'F', b'F', b'F', b'F', b'F', b'G']], dtype='|S1')"
      ]
     },
     "execution_count": 49,
     "metadata": {},
     "output_type": "execute_result"
    }
   ],
   "source": [
    "env_desc"
   ]
  },
  {
   "cell_type": "markdown",
   "id": "3ca7ff62",
   "metadata": {},
   "source": [
    "#### converting env_desc into matrix form"
   ]
  },
  {
   "cell_type": "code",
   "execution_count": 50,
   "id": "0fa570f6",
   "metadata": {},
   "outputs": [],
   "source": [
    "env_matrix = []\n",
    "for row in env_desc:\n",
    "    temp = []\n",
    "    for cell in row:\n",
    "        temp.append(cell.decode('UTF-8'))\n",
    "    env_matrix.append(temp)"
   ]
  },
  {
   "cell_type": "code",
   "execution_count": 51,
   "id": "78c36dd8",
   "metadata": {},
   "outputs": [
    {
     "data": {
      "text/plain": [
       "[['S', 'F', 'F', 'H', 'F', 'F', 'F', 'F'],\n",
       " ['F', 'F', 'F', 'F', 'F', 'F', 'F', 'F'],\n",
       " ['F', 'F', 'F', 'F', 'F', 'F', 'F', 'F'],\n",
       " ['F', 'F', 'H', 'F', 'H', 'F', 'F', 'F'],\n",
       " ['H', 'F', 'H', 'F', 'F', 'F', 'F', 'F'],\n",
       " ['F', 'F', 'H', 'F', 'F', 'F', 'F', 'F'],\n",
       " ['F', 'H', 'F', 'F', 'H', 'H', 'F', 'F'],\n",
       " ['F', 'H', 'F', 'F', 'F', 'F', 'F', 'G']]"
      ]
     },
     "execution_count": 51,
     "metadata": {},
     "output_type": "execute_result"
    }
   ],
   "source": [
    "env_matrix"
   ]
  },
  {
   "cell_type": "code",
   "execution_count": 52,
   "id": "4258036d",
   "metadata": {},
   "outputs": [],
   "source": [
    "result = dijkstra(env_matrix)"
   ]
  },
  {
   "cell_type": "markdown",
   "id": "00c73b66",
   "metadata": {},
   "source": [
    "#### Mapping and Testing"
   ]
  },
  {
   "cell_type": "code",
   "execution_count": 53,
   "id": "5e439aa2",
   "metadata": {},
   "outputs": [],
   "source": [
    "def map_path_to_actions(path):\n",
    "    actions = []\n",
    "    for i in range(1, len(path)):\n",
    "        current_x, current_y = path[i - 1]\n",
    "        next_x, next_y = path[i]\n",
    "\n",
    "        if current_x < next_x:\n",
    "            actions.append(1)  # Move down\n",
    "        elif current_x > next_x:\n",
    "            actions.append(3)  # Move up\n",
    "        elif current_y < next_y:\n",
    "            actions.append(2)  # Move right\n",
    "        elif current_y > next_y:\n",
    "            actions.append(0)  # Move left\n",
    "\n",
    "    return actions"
   ]
  },
  {
   "cell_type": "code",
   "execution_count": 54,
   "id": "8d46a026",
   "metadata": {},
   "outputs": [
    {
     "name": "stdout",
     "output_type": "stream",
     "text": [
      "[2, 2, 1, 2, 2, 2, 2, 2, 1, 1, 1, 1, 1, 1]\n"
     ]
    }
   ],
   "source": [
    "actions = map_path_to_actions(result)\n",
    "print(actions)"
   ]
  },
  {
   "cell_type": "code",
   "execution_count": 55,
   "id": "2f31ad3b",
   "metadata": {},
   "outputs": [],
   "source": [
    "for action in actions:\n",
    "    env.step(action)"
   ]
  },
  {
   "cell_type": "code",
   "execution_count": 56,
   "id": "0f0fce5f",
   "metadata": {},
   "outputs": [],
   "source": [
    "env.close()"
   ]
  },
  {
   "cell_type": "markdown",
   "id": "32e2a8d1",
   "metadata": {},
   "source": [
    "# Let us try some more examples"
   ]
  },
  {
   "cell_type": "markdown",
   "id": "a20b6a46",
   "metadata": {},
   "source": [
    "#### Each time this generates the random map, Let us check how it performs for different examples"
   ]
  },
  {
   "cell_type": "code",
   "execution_count": 57,
   "id": "077549aa",
   "metadata": {},
   "outputs": [],
   "source": [
    "env = gym.make('FrozenLake-v1',is_slippery=False,render_mode = \"human\", desc = generate_random_map(size=12))\n",
    "state,info = env.reset()\n",
    "env_desc = env.get_wrapper_attr('desc')\n",
    "env_matrix = []\n",
    "for row in env_desc:\n",
    "    temp = []\n",
    "    for cell in row:\n",
    "        temp.append(cell.decode('UTF-8'))\n",
    "    env_matrix.append(temp)\n",
    "result = dijkstra(env_matrix)\n",
    "actions = map_path_to_actions(result)\n",
    "for action in actions:\n",
    "    env.step(action)\n",
    "env.close()"
   ]
  },
  {
   "cell_type": "markdown",
   "id": "453454e8",
   "metadata": {},
   "source": [
    "#### It can be clearly seen that Dijkstra's Algorithm finds the shortest path, This is very efficient than DFS"
   ]
  },
  {
   "cell_type": "markdown",
   "id": "8511305a",
   "metadata": {},
   "source": [
    "# DFS Vs Dijkstra"
   ]
  },
  {
   "cell_type": "code",
   "execution_count": 58,
   "id": "7e85c2dc",
   "metadata": {},
   "outputs": [],
   "source": [
    "import time"
   ]
  },
  {
   "cell_type": "markdown",
   "id": "ed95918e",
   "metadata": {},
   "source": [
    "#### Let us increase the map size to 12"
   ]
  },
  {
   "cell_type": "code",
   "execution_count": 59,
   "id": "dae8f424",
   "metadata": {},
   "outputs": [],
   "source": [
    "env = gym.make('FrozenLake-v1',is_slippery=False, desc = generate_random_map(size=12))"
   ]
  },
  {
   "cell_type": "code",
   "execution_count": 60,
   "id": "669a77cd",
   "metadata": {},
   "outputs": [],
   "source": [
    "env_desc = env.get_wrapper_attr('desc')\n",
    "matrix = []\n",
    "for row in env_desc:\n",
    "    temp = []\n",
    "    for cell in row:\n",
    "        temp.append(cell.decode('UTF-8'))\n",
    "    matrix.append(temp)"
   ]
  },
  {
   "cell_type": "code",
   "execution_count": 61,
   "id": "3a12bb65",
   "metadata": {},
   "outputs": [
    {
     "data": {
      "text/plain": [
       "[['S', 'F', 'F', 'F', 'F', 'F', 'H', 'H', 'F', 'F', 'F', 'F'],\n",
       " ['H', 'H', 'F', 'F', 'F', 'F', 'H', 'F', 'F', 'F', 'F', 'H'],\n",
       " ['F', 'F', 'F', 'F', 'H', 'F', 'F', 'F', 'F', 'H', 'F', 'F'],\n",
       " ['F', 'F', 'F', 'F', 'F', 'H', 'H', 'F', 'F', 'F', 'F', 'F'],\n",
       " ['F', 'F', 'F', 'H', 'H', 'F', 'F', 'F', 'F', 'F', 'F', 'F'],\n",
       " ['F', 'F', 'F', 'F', 'F', 'F', 'F', 'F', 'F', 'F', 'F', 'F'],\n",
       " ['F', 'H', 'F', 'F', 'F', 'H', 'F', 'F', 'F', 'F', 'F', 'F'],\n",
       " ['F', 'F', 'F', 'F', 'F', 'F', 'H', 'F', 'F', 'H', 'H', 'F'],\n",
       " ['F', 'H', 'F', 'F', 'F', 'F', 'F', 'F', 'F', 'F', 'F', 'F'],\n",
       " ['F', 'F', 'H', 'H', 'F', 'F', 'H', 'F', 'F', 'F', 'F', 'H'],\n",
       " ['F', 'F', 'H', 'F', 'F', 'F', 'F', 'F', 'F', 'H', 'H', 'H'],\n",
       " ['F', 'H', 'F', 'F', 'F', 'F', 'F', 'H', 'F', 'F', 'F', 'G']]"
      ]
     },
     "execution_count": 61,
     "metadata": {},
     "output_type": "execute_result"
    }
   ],
   "source": [
    "matrix #printing the path in matrix form"
   ]
  },
  {
   "cell_type": "code",
   "execution_count": 62,
   "id": "734f43ea",
   "metadata": {},
   "outputs": [
    {
     "name": "stdout",
     "output_type": "stream",
     "text": [
      "DFS Path Length: 34\n",
      "DFS Time (ms): 0.0\n",
      "Dijkstra Length: 22\n",
      "Dijkstra Path Time (ms): 1.0156631469726562\n"
     ]
    }
   ],
   "source": [
    "# DFS\n",
    "start_time = time.time()\n",
    "dfs_path = find_path(matrix)\n",
    "dfs_time = (time.time() - start_time) * 1000\n",
    "dfs_length = len(dfs_path) - 1  # Length is the number of steps\n",
    "\n",
    "# Dijkstra\n",
    "start_time = time.time()\n",
    "dijkstra_path = dijkstra(matrix)\n",
    "dijkstra_time = (time.time() - start_time) * 1000\n",
    "dijkstra_length = len(dijkstra_path) - 1  # Length is the number of steps\n",
    "\n",
    "# Print results\n",
    "print(\"DFS Path Length:\", dfs_length)\n",
    "print(\"DFS Time (ms):\", dfs_time)\n",
    "print(\"Dijkstra Length:\", dijkstra_length)\n",
    "print(\"Dijkstra Path Time (ms):\", dijkstra_time)"
   ]
  },
  {
   "cell_type": "markdown",
   "id": "7f1d6afb",
   "metadata": {},
   "source": [
    "#### Increase the map size to 25"
   ]
  },
  {
   "cell_type": "code",
   "execution_count": 159,
   "id": "733b5ed3",
   "metadata": {},
   "outputs": [],
   "source": [
    "env = gym.make('FrozenLake-v1',is_slippery=False, desc = generate_random_map(size=25))\n",
    "\n",
    "env_desc = env.get_wrapper_attr('desc')\n",
    "matrix = []\n",
    "for row in env_desc:\n",
    "    temp = []\n",
    "    for cell in row:\n",
    "        temp.append(cell.decode('UTF-8'))\n",
    "    matrix.append(temp)"
   ]
  },
  {
   "cell_type": "code",
   "execution_count": 167,
   "id": "1cb396a4",
   "metadata": {},
   "outputs": [
    {
     "name": "stdout",
     "output_type": "stream",
     "text": [
      "DFS Path Length: 144\n",
      "DFS Time (ms): 1.0001659393310547\n",
      "Dijkstra Path Length: 48\n",
      "Dijkstra Time (ms): 2.001047134399414\n"
     ]
    }
   ],
   "source": [
    "# DFS\n",
    "start_time = time.time()\n",
    "dfs_path = find_path(matrix)\n",
    "dfs_time = (time.time() - start_time) * 1000\n",
    "dfs_length = len(dfs_path) - 1  # Length is the number of steps\n",
    "\n",
    "# Dijkstra\n",
    "start_time = time.time()\n",
    "dijkstra_path = dijkstra(matrix)\n",
    "dijkstra_time = (time.time() - start_time) * 1000\n",
    "dijkstra_length = len(dijkstra_path) - 1  # Length is the number of steps\n",
    "\n",
    "# Print results\n",
    "print(\"DFS Path Length:\", dfs_length)\n",
    "print(\"DFS Time (ms):\", dfs_time)\n",
    "print(\"Dijkstra Path Length:\", dijkstra_length)\n",
    "print(\"Dijkstra Time (ms):\", dijkstra_time)"
   ]
  },
  {
   "cell_type": "markdown",
   "id": "d0f7c3c2",
   "metadata": {},
   "source": [
    "#### Increase the map size to 50"
   ]
  },
  {
   "cell_type": "code",
   "execution_count": 68,
   "id": "458ec6bf",
   "metadata": {},
   "outputs": [],
   "source": [
    "env = gym.make('FrozenLake-v1',is_slippery=False, desc = generate_random_map(size=50))\n",
    "\n",
    "env_desc = env.get_wrapper_attr('desc')\n",
    "matrix = []\n",
    "for row in env_desc:\n",
    "    temp = []\n",
    "    for cell in row:\n",
    "        temp.append(cell.decode('UTF-8'))\n",
    "    matrix.append(temp)"
   ]
  },
  {
   "cell_type": "code",
   "execution_count": 70,
   "id": "4b91dcf3",
   "metadata": {},
   "outputs": [
    {
     "name": "stdout",
     "output_type": "stream",
     "text": [
      "DFS PAth Length: 504\n",
      "DFS Time (ms): 1.0094642639160156\n",
      "Dijkstra Path Length: 98\n",
      "Dijkstra Time (ms): 8.587837219238281\n"
     ]
    }
   ],
   "source": [
    "# DFS\n",
    "start_time = time.time()\n",
    "dfs_path = find_path(matrix)\n",
    "dfs_time = (time.time() - start_time) * 1000\n",
    "dfs_length = len(dfs_path) - 1  # Length is the number of steps\n",
    "\n",
    "# Dijkstra\n",
    "start_time = time.time()\n",
    "dijkstra_path = dijkstra(matrix)\n",
    "dijkstra_time = (time.time() - start_time) * 1000\n",
    "dijkstra_length = len(dijkstra_path) - 1  # Length is the number of steps\n",
    "\n",
    "# Print results\n",
    "print(\"DFS PAth Length:\", dfs_length)\n",
    "print(\"DFS Time (ms):\", dfs_time)\n",
    "print(\"Dijkstra Path Length:\", dijkstra_length)\n",
    "print(\"Dijkstra Time (ms):\", dijkstra_time)"
   ]
  },
  {
   "cell_type": "code",
   "execution_count": null,
   "id": "9105dfd5",
   "metadata": {},
   "outputs": [],
   "source": []
  }
 ],
 "metadata": {
  "kernelspec": {
   "display_name": "Python 3",
   "language": "python",
   "name": "python3"
  },
  "language_info": {
   "codemirror_mode": {
    "name": "ipython",
    "version": 3
   },
   "file_extension": ".py",
   "mimetype": "text/x-python",
   "name": "python",
   "nbconvert_exporter": "python",
   "pygments_lexer": "ipython3",
   "version": "3.8.8"
  }
 },
 "nbformat": 4,
 "nbformat_minor": 5
}
